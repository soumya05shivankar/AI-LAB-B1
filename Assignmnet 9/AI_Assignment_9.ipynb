{
  "nbformat": 4,
  "nbformat_minor": 0,
  "metadata": {
    "colab": {
      "provenance": []
    },
    "kernelspec": {
      "name": "python3",
      "display_name": "Python 3"
    },
    "language_info": {
      "name": "python"
    }
  },
  "cells": [
    {
      "cell_type": "markdown",
      "source": [
        "<h2>Name: Abhishek Wekhande</h2>\n",
        "<h2>PRN: 22070521113</h2>"
      ],
      "metadata": {
        "id": "8AqJ8Lw6r5Sx"
      }
    },
    {
      "cell_type": "code",
      "execution_count": 1,
      "metadata": {
        "colab": {
          "base_uri": "https://localhost:8080/"
        },
        "id": "LEgIsw2rrs6-",
        "outputId": "b4f715b1-3ae1-40e7-e1dc-cbccc6afa0ad"
      },
      "outputs": [
        {
          "output_type": "stream",
          "name": "stdout",
          "text": [
            "Decision: MOVE\n",
            "Direction: Down\n"
          ]
        },
        {
          "output_type": "stream",
          "name": "stderr",
          "text": [
            "/usr/local/lib/python3.11/dist-packages/sklearn/linear_model/_logistic.py:1247: FutureWarning: 'multi_class' was deprecated in version 1.5 and will be removed in 1.7. From then on, it will always use 'multinomial'. Leave it to its default value to avoid this warning.\n",
            "  warnings.warn(\n"
          ]
        }
      ],
      "source": [
        "import numpy as np\n",
        "from sklearn.linear_model import Perceptron\n",
        "from sklearn.linear_model import LogisticRegression\n",
        "\n",
        "# Sample dataset\n",
        "X = np.array([\n",
        "    [0, 0, 1, 0],  # free down\n",
        "    [1, 0, 1, 0],  # free down\n",
        "    [0, 1, 1, 0],  # free up\n",
        "    [1, 1, 1, 1],  # blocked all sides\n",
        "    [0, 0, 0, 1],  # free up and down\n",
        "    [0, 1, 0, 0],  # free up, right\n",
        "])\n",
        "\n",
        "y_binary = np.array([1, 1, 1, 0, 1, 1])  # Move or not\n",
        "y_multi = np.array([1, 1, 0, -1, 0, 3])   # Direction: Up = 0, Down = 1, Left = 2, Right = 3\n",
        "\n",
        "# Train Perceptron (binary classification)\n",
        "perceptron = Perceptron()\n",
        "perceptron.fit(X, y_binary)\n",
        "\n",
        "# Train multi-category model (direction prediction)\n",
        "X_multi = X[y_multi != -1]        # Filter out rows with no direction\n",
        "y_multi_filtered = y_multi[y_multi != -1]\n",
        "multi_model = LogisticRegression(multi_class='multinomial', solver='lbfgs')\n",
        "multi_model.fit(X_multi, y_multi_filtered)\n",
        "\n",
        "# Test input (robot senses obstacles)\n",
        "test_input = np.array([[0, 0, 1, 0]])  # Obstacle Left\n",
        "\n",
        "# Predict movement (1 = move, 0 = stop)\n",
        "move_decision = perceptron.predict(test_input)[0]\n",
        "\n",
        "if move_decision == 1:\n",
        "    direction = multi_model.predict(test_input)[0]\n",
        "    direction_map = {0: \"Up\", 1: \"Down\", 2: \"Left\", 3: \"Right\"}\n",
        "    print(\"Decision: MOVE\")\n",
        "    print(\"Direction:\", direction_map[direction])\n",
        "else:\n",
        "    print(\"Decision: STOP\")"
      ]
    }
  ]
}
